{
 "cells": [
  {
   "cell_type": "markdown",
   "id": "38f86602-d777-42f7-927a-b50d2f95cb7f",
   "metadata": {},
   "source": [
    "## Language translation from Swahili to French"
   ]
  },
  {
   "cell_type": "markdown",
   "id": "3f37e83d-e3ea-49bf-b45a-6c19a80ff820",
   "metadata": {},
   "source": [
    "##### Step 1: Language detection"
   ]
  },
  {
   "cell_type": "code",
   "execution_count": 3,
   "id": "b2ab0c80-eaa1-4440-b651-061bcc4f9b3f",
   "metadata": {},
   "outputs": [
    {
     "name": "stdout",
     "output_type": "stream",
     "text": [
      "Collecting langdetect\n",
      "  Downloading langdetect-1.0.9.tar.gz (981 kB)\n",
      "     -------------------------------------- 981.5/981.5 kB 1.1 MB/s eta 0:00:00\n",
      "  Preparing metadata (setup.py): started\n",
      "  Preparing metadata (setup.py): finished with status 'done'\n",
      "Requirement already satisfied: six in c:\\users\\hp\\appdata\\roaming\\python\\python310\\site-packages (from langdetect) (1.16.0)\n",
      "Building wheels for collected packages: langdetect\n",
      "  Building wheel for langdetect (setup.py): started\n",
      "  Building wheel for langdetect (setup.py): finished with status 'done'\n",
      "  Created wheel for langdetect: filename=langdetect-1.0.9-py3-none-any.whl size=993253 sha256=3fade61ac3e0f8ba4b2f0c44f6a3237d785edd7a8c96361fe2fe19c1f86d6f3c\n",
      "  Stored in directory: c:\\users\\hp\\appdata\\local\\pip\\cache\\wheels\\c4\\16\\af\\1889804d8b7c0c041cadee8e29673a938a332acbf2865c70a1\n",
      "Successfully built langdetect\n",
      "Installing collected packages: langdetect\n",
      "Successfully installed langdetect-1.0.9\n",
      "Collecting langdetect\n",
      "  Using cached langdetect-1.0.9-py3-none-any.whl\n",
      "Requirement already satisfied: six in c:\\users\\hp\\appdata\\roaming\\python\\python310\\site-packages (from langdetect) (1.16.0)\n",
      "Installing collected packages: langdetect\n",
      "Successfully installed langdetect-1.0.9\n",
      "Collecting langdetect\n",
      "  Using cached langdetect-1.0.9-py3-none-any.whl\n",
      "Requirement already satisfied: six in c:\\users\\hp\\appdata\\roaming\\python\\python310\\site-packages (from langdetect) (1.16.0)\n",
      "Installing collected packages: langdetect\n",
      "Successfully installed langdetect-1.0.9\n"
     ]
    }
   ],
   "source": [
    "# install langdetect to detect language\n",
    "# !pip install langdetect"
   ]
  },
  {
   "cell_type": "code",
   "execution_count": 4,
   "id": "47340f90-9e38-445b-ae58-01617ba81f9f",
   "metadata": {},
   "outputs": [
    {
     "name": "stdout",
     "output_type": "stream",
     "text": [
      "sw\n"
     ]
    }
   ],
   "source": [
    "from langdetect import detect\n",
    "\n",
    "sentence = \"Habari za leo\"\n",
    "\n",
    "print(detect(sentence))"
   ]
  },
  {
   "cell_type": "code",
   "execution_count": 10,
   "id": "6a4b968c-a4e7-428d-9446-2026c1fe567e",
   "metadata": {},
   "outputs": [
    {
     "name": "stdout",
     "output_type": "stream",
     "text": [
      "fr\n"
     ]
    }
   ],
   "source": [
    "text = \"bonjour maman comment allez-vous?\"\n",
    "print(detect(text)) "
   ]
  },
  {
   "cell_type": "code",
   "execution_count": 5,
   "id": "ab6fd3c6-4fe1-45dc-82e8-a3d6d74893da",
   "metadata": {},
   "outputs": [],
   "source": [
    "# import DetectorFactory to enforce consistent output\n",
    "from langdetect import DetectorFactory\n",
    "DetectorFactory.seed = 0"
   ]
  },
  {
   "cell_type": "markdown",
   "id": "b82f9b0c-4cd3-4cfa-b2bc-1010a9012dcf",
   "metadata": {},
   "source": [
    "##### Step 2: Language translation\n",
    "With google_trans_new"
   ]
  },
  {
   "cell_type": "code",
   "execution_count": 6,
   "id": "e657c2aa-ff64-4d44-9744-950c6998f1c6",
   "metadata": {},
   "outputs": [
    {
     "name": "stdout",
     "output_type": "stream",
     "text": [
      "Collecting google_trans_new\n",
      "  Downloading google_trans_new-1.1.9-py3-none-any.whl (9.2 kB)\n",
      "Installing collected packages: google_trans_new\n",
      "Successfully installed google_trans_new-1.1.9\n"
     ]
    }
   ],
   "source": [
    "# !pip install google_trans_new"
   ]
  },
  {
   "cell_type": "code",
   "execution_count": 14,
   "id": "51db9a44-02a2-4c65-8641-e5935c326392",
   "metadata": {},
   "outputs": [
    {
     "name": "stdout",
     "output_type": "stream",
     "text": [
      "Collecting deep-translator\n",
      "  Downloading deep_translator-1.11.4-py3-none-any.whl (42 kB)\n",
      "     -------------------------------------- 42.3/42.3 kB 186.3 kB/s eta 0:00:00\n",
      "Requirement already satisfied: beautifulsoup4<5.0.0,>=4.9.1 in c:\\users\\hp\\anaconda3\\lib\\site-packages (from deep-translator) (4.11.1)\n",
      "Requirement already satisfied: requests<3.0.0,>=2.23.0 in c:\\users\\hp\\anaconda3\\lib\\site-packages (from deep-translator) (2.28.1)\n",
      "Requirement already satisfied: soupsieve>1.2 in c:\\users\\hp\\anaconda3\\lib\\site-packages (from beautifulsoup4<5.0.0,>=4.9.1->deep-translator) (2.3.2.post1)\n",
      "Requirement already satisfied: certifi>=2017.4.17 in c:\\users\\hp\\anaconda3\\lib\\site-packages (from requests<3.0.0,>=2.23.0->deep-translator) (2023.5.7)\n",
      "Requirement already satisfied: urllib3<1.27,>=1.21.1 in c:\\users\\hp\\anaconda3\\lib\\site-packages (from requests<3.0.0,>=2.23.0->deep-translator) (1.26.14)\n",
      "Requirement already satisfied: charset-normalizer<3,>=2 in c:\\users\\hp\\anaconda3\\lib\\site-packages (from requests<3.0.0,>=2.23.0->deep-translator) (2.0.4)\n",
      "Requirement already satisfied: idna<4,>=2.5 in c:\\users\\hp\\anaconda3\\lib\\site-packages (from requests<3.0.0,>=2.23.0->deep-translator) (3.4)\n",
      "Installing collected packages: deep-translator\n",
      "Successfully installed deep-translator-1.11.4\n"
     ]
    }
   ],
   "source": [
    "!pip install -U deep-translator"
   ]
  },
  {
   "cell_type": "code",
   "execution_count": 13,
   "id": "ba819aa7-6114-4f2e-9655-c93f9f2a8cb9",
   "metadata": {},
   "outputs": [
    {
     "ename": "google_new_transError",
     "evalue": "404 (Not Found) from TTS API. Probable cause: Unknown",
     "output_type": "error",
     "traceback": [
      "\u001b[1;31m---------------------------------------------------------------------------\u001b[0m",
      "\u001b[1;31mHTTPError\u001b[0m                                 Traceback (most recent call last)",
      "File \u001b[1;32m~\\anaconda3\\lib\\site-packages\\google_trans_new\\google_trans_new.py:189\u001b[0m, in \u001b[0;36mgoogle_translator.translate\u001b[1;34m(self, text, lang_tgt, lang_src, pronounce)\u001b[0m\n\u001b[0;32m    188\u001b[0m                 \u001b[38;5;28;01mraise\u001b[39;00m e\n\u001b[1;32m--> 189\u001b[0m     \u001b[43mr\u001b[49m\u001b[38;5;241;43m.\u001b[39;49m\u001b[43mraise_for_status\u001b[49m\u001b[43m(\u001b[49m\u001b[43m)\u001b[49m\n\u001b[0;32m    190\u001b[0m \u001b[38;5;28;01mexcept\u001b[39;00m requests\u001b[38;5;241m.\u001b[39mexceptions\u001b[38;5;241m.\u001b[39mConnectTimeout \u001b[38;5;28;01mas\u001b[39;00m e:\n",
      "File \u001b[1;32m~\\anaconda3\\lib\\site-packages\\requests\\models.py:1021\u001b[0m, in \u001b[0;36mResponse.raise_for_status\u001b[1;34m(self)\u001b[0m\n\u001b[0;32m   1020\u001b[0m \u001b[38;5;28;01mif\u001b[39;00m http_error_msg:\n\u001b[1;32m-> 1021\u001b[0m     \u001b[38;5;28;01mraise\u001b[39;00m HTTPError(http_error_msg, response\u001b[38;5;241m=\u001b[39m\u001b[38;5;28mself\u001b[39m)\n",
      "\u001b[1;31mHTTPError\u001b[0m: 404 Client Error: Not Found for url: https://translate.google.cn/_/TranslateWebserverUi/data/batchexecute",
      "\nDuring handling of the above exception, another exception occurred:\n",
      "\u001b[1;31mgoogle_new_transError\u001b[0m                     Traceback (most recent call last)",
      "Cell \u001b[1;32mIn[13], line 4\u001b[0m\n\u001b[0;32m      2\u001b[0m translator \u001b[38;5;241m=\u001b[39m google_translator()\n\u001b[0;32m      3\u001b[0m text \u001b[38;5;241m=\u001b[39m \u001b[38;5;124m\"\u001b[39m\u001b[38;5;124mTanzania ni nchi inayoongoza kwa utalii barani afrika\u001b[39m\u001b[38;5;124m\"\u001b[39m\n\u001b[1;32m----> 4\u001b[0m translate_text \u001b[38;5;241m=\u001b[39m \u001b[43mtranslator\u001b[49m\u001b[38;5;241;43m.\u001b[39;49m\u001b[43mtranslate\u001b[49m\u001b[43m(\u001b[49m\u001b[43mtext\u001b[49m\u001b[43m,\u001b[49m\u001b[43mlang_tgt\u001b[49m\u001b[38;5;241;43m=\u001b[39;49m\u001b[38;5;124;43m'\u001b[39;49m\u001b[38;5;124;43men\u001b[39;49m\u001b[38;5;124;43m'\u001b[39;49m\u001b[43m)\u001b[49m\n",
      "File \u001b[1;32m~\\anaconda3\\lib\\site-packages\\google_trans_new\\google_trans_new.py:194\u001b[0m, in \u001b[0;36mgoogle_translator.translate\u001b[1;34m(self, text, lang_tgt, lang_src, pronounce)\u001b[0m\n\u001b[0;32m    191\u001b[0m     \u001b[38;5;28;01mraise\u001b[39;00m e\n\u001b[0;32m    192\u001b[0m \u001b[38;5;28;01mexcept\u001b[39;00m requests\u001b[38;5;241m.\u001b[39mexceptions\u001b[38;5;241m.\u001b[39mHTTPError \u001b[38;5;28;01mas\u001b[39;00m e:\n\u001b[0;32m    193\u001b[0m     \u001b[38;5;66;03m# Request successful, bad response\u001b[39;00m\n\u001b[1;32m--> 194\u001b[0m     \u001b[38;5;28;01mraise\u001b[39;00m google_new_transError(tts\u001b[38;5;241m=\u001b[39m\u001b[38;5;28mself\u001b[39m, response\u001b[38;5;241m=\u001b[39mr)\n\u001b[0;32m    195\u001b[0m \u001b[38;5;28;01mexcept\u001b[39;00m requests\u001b[38;5;241m.\u001b[39mexceptions\u001b[38;5;241m.\u001b[39mRequestException \u001b[38;5;28;01mas\u001b[39;00m e:\n\u001b[0;32m    196\u001b[0m     \u001b[38;5;66;03m# Request failed\u001b[39;00m\n\u001b[0;32m    197\u001b[0m     \u001b[38;5;28;01mraise\u001b[39;00m google_new_transError(tts\u001b[38;5;241m=\u001b[39m\u001b[38;5;28mself\u001b[39m)\n",
      "\u001b[1;31mgoogle_new_transError\u001b[0m: 404 (Not Found) from TTS API. Probable cause: Unknown"
     ]
    }
   ],
   "source": [
    "# from google_trans_new import google_translator\n",
    "# translator = google_translator()\n",
    "# text = \"Tanzania ni nchi inayoongoza kwa utalii barani afrika\"\n",
    "# translate_text = translator.translate(text,lang_tgt='en')"
   ]
  },
  {
   "cell_type": "code",
   "execution_count": 16,
   "id": "65a8ecef-b7e8-4e7e-af1a-d0a0248962c5",
   "metadata": {},
   "outputs": [],
   "source": [
    "from deep_translator import GoogleTranslator\n",
    "text = \"habari za leo\"\n",
    "translated = GoogleTranslator(source='auto', target='fr').translate(text)"
   ]
  },
  {
   "cell_type": "code",
   "execution_count": 17,
   "id": "50f790c4-dfd6-4fdc-8a06-ff8ed8bae9df",
   "metadata": {},
   "outputs": [
    {
     "name": "stdout",
     "output_type": "stream",
     "text": [
      "nouvelles d'aujourd'hui\n"
     ]
    }
   ],
   "source": [
    "print(translated)"
   ]
  },
  {
   "cell_type": "code",
   "execution_count": null,
   "id": "7ea2b71b-ae3b-45f0-80f0-a9fd5e298f3f",
   "metadata": {},
   "outputs": [],
   "source": [
    "# Plan\n",
    "# Connect to instagram post if possible\n",
    "# build an app interface for translating\n",
    "# try to use LLMs for this\n",
    "# write function"
   ]
  },
  {
   "cell_type": "code",
   "execution_count": 18,
   "id": "25c9ae9b-0249-4884-b7de-b1dd36841912",
   "metadata": {},
   "outputs": [
    {
     "name": "stdout",
     "output_type": "stream",
     "text": [
      "cinq signes de dépression chez les hommes\n"
     ]
    }
   ],
   "source": [
    "text = \"dalili tano zza msongo wa mawazo kwa wanaume\"\n",
    "translated = GoogleTranslator(source='auto', target='fr').translate(text)\n",
    "print(translated)"
   ]
  },
  {
   "cell_type": "code",
   "execution_count": 19,
   "id": "d71fba91-d10b-4552-848d-cb504e47a950",
   "metadata": {},
   "outputs": [
    {
     "name": "stdout",
     "output_type": "stream",
     "text": [
      "changements d'humeur, par exemple, être très triste ou en colère, les autres sont mécontents\n"
     ]
    }
   ],
   "source": [
    "text = \"mabadiliko ya hisia mfano, kua na huzuni sana, au hasira wengine hukosa furaha\"\n",
    "translated = GoogleTranslator(source='auto', target='fr').translate(text)\n",
    "print(translated)"
   ]
  },
  {
   "cell_type": "code",
   "execution_count": 20,
   "id": "0917a3be-298f-4ef9-a9ce-1e387572a30e",
   "metadata": {},
   "outputs": [],
   "source": [
    "def translate_sw_fr(text):\n",
    "    translated = GoogleTranslator(source='auto', target='fr').translate(text)\n",
    "    return translated"
   ]
  },
  {
   "cell_type": "code",
   "execution_count": 24,
   "id": "75f4322c-430e-47d5-ba01-b1b4031f6f7f",
   "metadata": {},
   "outputs": [
    {
     "data": {
      "text/plain": [
       "\"problèmes physiques, le stress mental affecte le corps est ce que vous trouvez d'autres ressentent des douleurs dans le dos, l'estomac et la tête de temps en temps\""
      ]
     },
     "execution_count": 24,
     "metadata": {},
     "output_type": "execute_result"
    }
   ],
   "source": [
    "translate_sw_fr(\"matatizo ya mwili, msongo wa mawazo huathiri mwili ndio ile unakuta wengine wanahisi maumivu ya mgongo, tumbo na kichwa mara kwa mara\")"
   ]
  },
  {
   "cell_type": "code",
   "execution_count": null,
   "id": "d9c9d7e2-e5e1-423c-bcff-a1688a9b3966",
   "metadata": {},
   "outputs": [],
   "source": [
    "# alter the function to translate from english to french as well"
   ]
  }
 ],
 "metadata": {
  "kernelspec": {
   "display_name": "Python 3 (ipykernel)",
   "language": "python",
   "name": "python3"
  },
  "language_info": {
   "codemirror_mode": {
    "name": "ipython",
    "version": 3
   },
   "file_extension": ".py",
   "mimetype": "text/x-python",
   "name": "python",
   "nbconvert_exporter": "python",
   "pygments_lexer": "ipython3",
   "version": "3.10.9"
  }
 },
 "nbformat": 4,
 "nbformat_minor": 5
}
