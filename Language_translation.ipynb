{
 "cells": [
  {
   "attachments": {},
   "cell_type": "markdown",
   "id": "38f86602-d777-42f7-927a-b50d2f95cb7f",
   "metadata": {},
   "source": [
    "## Language translation from Swahili to French"
   ]
  },
  {
   "attachments": {},
   "cell_type": "markdown",
   "id": "3f37e83d-e3ea-49bf-b45a-6c19a80ff820",
   "metadata": {},
   "source": [
    "##### Step 1: Language detection"
   ]
  },
  {
   "cell_type": "code",
   "execution_count": 1,
   "id": "b2ab0c80-eaa1-4440-b651-061bcc4f9b3f",
   "metadata": {},
   "outputs": [
    {
     "name": "stderr",
     "output_type": "stream",
     "text": [
      "WARNING: You are using pip version 22.0.4; however, version 23.1.2 is available.\n",
      "You should consider upgrading via the 'C:\\Users\\Hp\\AppData\\Local\\Programs\\Python\\Python310\\python.exe -m pip install --upgrade pip' command.\n"
     ]
    },
    {
     "name": "stdout",
     "output_type": "stream",
     "text": [
      "Requirement already satisfied: langdetect in c:\\users\\hp\\appdata\\local\\programs\\python\\python310\\lib\\site-packages (1.0.9)\n",
      "Requirement already satisfied: six in c:\\users\\hp\\appdata\\roaming\\python\\python310\\site-packages (from langdetect) (1.16.0)\n"
     ]
    }
   ],
   "source": [
    "# install langdetect to detect language\n",
    "!pip install langdetect"
   ]
  },
  {
   "cell_type": "code",
   "execution_count": 2,
   "id": "47340f90-9e38-445b-ae58-01617ba81f9f",
   "metadata": {},
   "outputs": [
    {
     "name": "stdout",
     "output_type": "stream",
     "text": [
      "sw\n"
     ]
    }
   ],
   "source": [
    "from langdetect import detect\n",
    "\n",
    "sentence = \"Habari za leo\"\n",
    "\n",
    "print(detect(sentence))"
   ]
  },
  {
   "cell_type": "code",
   "execution_count": 3,
   "id": "6a4b968c-a4e7-428d-9446-2026c1fe567e",
   "metadata": {},
   "outputs": [
    {
     "name": "stdout",
     "output_type": "stream",
     "text": [
      "fr\n"
     ]
    }
   ],
   "source": [
    "text = \"bonjour maman comment allez-vous?\"\n",
    "print(detect(text)) "
   ]
  },
  {
   "cell_type": "code",
   "execution_count": 4,
   "id": "ab6fd3c6-4fe1-45dc-82e8-a3d6d74893da",
   "metadata": {},
   "outputs": [],
   "source": [
    "# import DetectorFactory to enforce consistent output\n",
    "from langdetect import DetectorFactory\n",
    "DetectorFactory.seed = 0"
   ]
  },
  {
   "attachments": {},
   "cell_type": "markdown",
   "id": "b82f9b0c-4cd3-4cfa-b2bc-1010a9012dcf",
   "metadata": {},
   "source": [
    "##### Step 2: Language translation\n",
    "With google_trans_new"
   ]
  },
  {
   "cell_type": "code",
   "execution_count": 5,
   "id": "51db9a44-02a2-4c65-8641-e5935c326392",
   "metadata": {},
   "outputs": [
    {
     "name": "stdout",
     "output_type": "stream",
     "text": [
      "Requirement already satisfied: deep-translator in c:\\users\\hp\\appdata\\local\\programs\\python\\python310\\lib\\site-packages (1.11.4)\n",
      "Requirement already satisfied: beautifulsoup4<5.0.0,>=4.9.1 in c:\\users\\hp\\appdata\\local\\programs\\python\\python310\\lib\\site-packages (from deep-translator) (4.12.2)\n",
      "Requirement already satisfied: requests<3.0.0,>=2.23.0 in c:\\users\\hp\\appdata\\local\\programs\\python\\python310\\lib\\site-packages (from deep-translator) (2.31.0)\n",
      "Requirement already satisfied: soupsieve>1.2 in c:\\users\\hp\\appdata\\local\\programs\\python\\python310\\lib\\site-packages (from beautifulsoup4<5.0.0,>=4.9.1->deep-translator) (2.4.1)\n",
      "Requirement already satisfied: charset-normalizer<4,>=2 in c:\\users\\hp\\appdata\\local\\programs\\python\\python310\\lib\\site-packages (from requests<3.0.0,>=2.23.0->deep-translator) (3.1.0)\n",
      "Requirement already satisfied: idna<4,>=2.5 in c:\\users\\hp\\appdata\\local\\programs\\python\\python310\\lib\\site-packages (from requests<3.0.0,>=2.23.0->deep-translator) (3.4)\n",
      "Requirement already satisfied: urllib3<3,>=1.21.1 in c:\\users\\hp\\appdata\\local\\programs\\python\\python310\\lib\\site-packages (from requests<3.0.0,>=2.23.0->deep-translator) (2.0.3)\n",
      "Requirement already satisfied: certifi>=2017.4.17 in c:\\users\\hp\\appdata\\local\\programs\\python\\python310\\lib\\site-packages (from requests<3.0.0,>=2.23.0->deep-translator) (2023.5.7)\n"
     ]
    },
    {
     "name": "stderr",
     "output_type": "stream",
     "text": [
      "WARNING: You are using pip version 22.0.4; however, version 23.1.2 is available.\n",
      "You should consider upgrading via the 'C:\\Users\\Hp\\AppData\\Local\\Programs\\Python\\Python310\\python.exe -m pip install --upgrade pip' command.\n"
     ]
    }
   ],
   "source": [
    "!pip install -U deep-translator"
   ]
  },
  {
   "cell_type": "code",
   "execution_count": 6,
   "id": "65a8ecef-b7e8-4e7e-af1a-d0a0248962c5",
   "metadata": {},
   "outputs": [],
   "source": [
    "from deep_translator import GoogleTranslator\n",
    "def translate_to_fr(text):\n",
    "    translated = GoogleTranslator(source='auto', target='fr').translate(text)\n",
    "    return translated"
   ]
  },
  {
   "cell_type": "code",
   "execution_count": 7,
   "id": "7086c1d0",
   "metadata": {},
   "outputs": [],
   "source": [
    "# Plan\n",
    "# Connect to instagram post if possible\n",
    "# build an app interface for translating\n",
    "# try to use LLMs for this"
   ]
  },
  {
   "cell_type": "code",
   "execution_count": 8,
   "id": "50f790c4-dfd6-4fdc-8a06-ff8ed8bae9df",
   "metadata": {},
   "outputs": [
    {
     "name": "stdout",
     "output_type": "stream",
     "text": [
      "problèmes physiques, le stress mental affecte le corps est ce que vous trouvez d'autres ressentent des douleurs dans le dos, l'estomac et la tête de temps en temps\n"
     ]
    }
   ],
   "source": [
    "print(translate_to_fr(\"matatizo ya mwili, msongo wa mawazo huathiri mwili ndio ile unakuta wengine wanahisi maumivu ya mgongo, tumbo na kichwa mara kwa mara\"))"
   ]
  },
  {
   "cell_type": "code",
   "execution_count": 9,
   "id": "7ea2b71b-ae3b-45f0-80f0-a9fd5e298f3f",
   "metadata": {},
   "outputs": [],
   "source": [
    "# Plan\n",
    "# Connect to instagram post if possible\n",
    "# build an app interface for translating\n",
    "# try to use LLMs for this\n",
    "# write function"
   ]
  },
  {
   "cell_type": "code",
   "execution_count": 10,
   "id": "25c9ae9b-0249-4884-b7de-b1dd36841912",
   "metadata": {},
   "outputs": [
    {
     "name": "stdout",
     "output_type": "stream",
     "text": [
      "File does not exist\n"
     ]
    }
   ],
   "source": [
    "# Read from a file and translate\n",
    "try:\n",
    "    with open('message.txt') as f:\n",
    "        for line in f:\n",
    "            print(translate_to_fr(line))\n",
    "            # print(line)\n",
    "except FileNotFoundError:\n",
    "    msg = \"File does not exist\"\n",
    "    print(msg)\n"
   ]
  },
  {
   "cell_type": "code",
   "execution_count": 11,
   "id": "d71fba91-d10b-4552-848d-cb504e47a950",
   "metadata": {},
   "outputs": [
    {
     "name": "stdout",
     "output_type": "stream",
     "text": [
      "Requirement already satisfied: PyPDF2 in c:\\users\\hp\\appdata\\local\\programs\\python\\python310\\lib\\site-packages (3.0.1)\n"
     ]
    },
    {
     "name": "stderr",
     "output_type": "stream",
     "text": [
      "WARNING: You are using pip version 22.0.4; however, version 23.1.2 is available.\n",
      "You should consider upgrading via the 'C:\\Users\\Hp\\AppData\\Local\\Programs\\Python\\Python310\\python.exe -m pip install --upgrade pip' command.\n"
     ]
    }
   ],
   "source": [
    "# Reading from pdf\n",
    "!pip install PyPDF2"
   ]
  },
  {
   "cell_type": "code",
   "execution_count": 12,
   "id": "0917a3be-298f-4ef9-a9ce-1e387572a30e",
   "metadata": {},
   "outputs": [
    {
     "name": "stdout",
     "output_type": "stream",
     "text": [
      "PDF file does not exist\n"
     ]
    }
   ],
   "source": [
    "import PyPDF2\n",
    "\n",
    "try:\n",
    "    pdfObj = open('sample.pdf', 'rb')\n",
    "    pdfReader = PyPDF2.PdfFileReader(pdfObj)\n",
    "\n",
    "    # get number of pages in pdf file\n",
    "    print(pdfReader.numPages)\n",
    "\n",
    "    # create single page obj\n",
    "    singlePageObj = pdfReader.getPage(0)\n",
    "    # extract content\n",
    "    print(singlePageObj.extractText())\n",
    "\n",
    "    # close file obj\n",
    "    pdfObj.close()\n",
    "except FileNotFoundError:\n",
    "    msg = \"PDF file does not exist\"\n",
    "    print(msg)\n",
    "\n",
    "# Write code to handle if page exists or not"
   ]
  },
  {
   "cell_type": "code",
   "execution_count": null,
   "id": "097919ea",
   "metadata": {},
   "outputs": [],
   "source": [
    "# Integrate with flask"
   ]
  }
 ],
 "metadata": {
  "kernelspec": {
   "display_name": "Python 3 (ipykernel)",
   "language": "python",
   "name": "python3"
  },
  "language_info": {
   "codemirror_mode": {
    "name": "ipython",
    "version": 3
   },
   "file_extension": ".py",
   "mimetype": "text/x-python",
   "name": "python",
   "nbconvert_exporter": "python",
   "pygments_lexer": "ipython3",
   "version": "3.10.4"
  }
 },
 "nbformat": 4,
 "nbformat_minor": 5
}
